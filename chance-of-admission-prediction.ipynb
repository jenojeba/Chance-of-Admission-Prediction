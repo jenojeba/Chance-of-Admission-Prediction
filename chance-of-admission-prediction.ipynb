{
 "cells": [
  {
   "cell_type": "code",
   "execution_count": 1,
   "id": "2e901223",
   "metadata": {
    "_cell_guid": "b1076dfc-b9ad-4769-8c92-a6c4dae69d19",
    "_uuid": "8f2839f25d086af736a60e9eeb907d3b93b6e0e5",
    "execution": {
     "iopub.execute_input": "2024-05-24T07:50:20.325096Z",
     "iopub.status.busy": "2024-05-24T07:50:20.324374Z",
     "iopub.status.idle": "2024-05-24T07:50:21.296707Z",
     "shell.execute_reply": "2024-05-24T07:50:21.295364Z"
    },
    "papermill": {
     "duration": 0.981202,
     "end_time": "2024-05-24T07:50:21.299358",
     "exception": false,
     "start_time": "2024-05-24T07:50:20.318156",
     "status": "completed"
    },
    "tags": []
   },
   "outputs": [],
   "source": [
    "import pandas as pd"
   ]
  },
  {
   "cell_type": "code",
   "execution_count": 2,
   "id": "ec882e71",
   "metadata": {
    "execution": {
     "iopub.execute_input": "2024-05-24T07:50:21.309533Z",
     "iopub.status.busy": "2024-05-24T07:50:21.308972Z",
     "iopub.status.idle": "2024-05-24T07:50:21.329406Z",
     "shell.execute_reply": "2024-05-24T07:50:21.328269Z"
    },
    "papermill": {
     "duration": 0.028714,
     "end_time": "2024-05-24T07:50:21.332313",
     "exception": false,
     "start_time": "2024-05-24T07:50:21.303599",
     "status": "completed"
    },
    "tags": []
   },
   "outputs": [],
   "source": [
    "d=pd.read_csv('/kaggle/input/chance-of-admission-dataset/Admission Chance.csv')"
   ]
  },
  {
   "cell_type": "code",
   "execution_count": 3,
   "id": "8cf1cc3a",
   "metadata": {
    "execution": {
     "iopub.execute_input": "2024-05-24T07:50:21.341916Z",
     "iopub.status.busy": "2024-05-24T07:50:21.341514Z",
     "iopub.status.idle": "2024-05-24T07:50:21.371020Z",
     "shell.execute_reply": "2024-05-24T07:50:21.369829Z"
    },
    "papermill": {
     "duration": 0.037445,
     "end_time": "2024-05-24T07:50:21.373814",
     "exception": false,
     "start_time": "2024-05-24T07:50:21.336369",
     "status": "completed"
    },
    "tags": []
   },
   "outputs": [
    {
     "data": {
      "text/html": [
       "<div>\n",
       "<style scoped>\n",
       "    .dataframe tbody tr th:only-of-type {\n",
       "        vertical-align: middle;\n",
       "    }\n",
       "\n",
       "    .dataframe tbody tr th {\n",
       "        vertical-align: top;\n",
       "    }\n",
       "\n",
       "    .dataframe thead th {\n",
       "        text-align: right;\n",
       "    }\n",
       "</style>\n",
       "<table border=\"1\" class=\"dataframe\">\n",
       "  <thead>\n",
       "    <tr style=\"text-align: right;\">\n",
       "      <th></th>\n",
       "      <th>Serial No</th>\n",
       "      <th>GRE Score</th>\n",
       "      <th>TOEFL Score</th>\n",
       "      <th>University Rating</th>\n",
       "      <th>SOP</th>\n",
       "      <th>LOR</th>\n",
       "      <th>CGPA</th>\n",
       "      <th>Research</th>\n",
       "      <th>Chance of Admit</th>\n",
       "    </tr>\n",
       "  </thead>\n",
       "  <tbody>\n",
       "    <tr>\n",
       "      <th>0</th>\n",
       "      <td>1</td>\n",
       "      <td>337</td>\n",
       "      <td>118</td>\n",
       "      <td>4</td>\n",
       "      <td>4.5</td>\n",
       "      <td>4.5</td>\n",
       "      <td>9.65</td>\n",
       "      <td>1</td>\n",
       "      <td>0.92</td>\n",
       "    </tr>\n",
       "    <tr>\n",
       "      <th>1</th>\n",
       "      <td>2</td>\n",
       "      <td>324</td>\n",
       "      <td>107</td>\n",
       "      <td>4</td>\n",
       "      <td>4.0</td>\n",
       "      <td>4.5</td>\n",
       "      <td>8.87</td>\n",
       "      <td>1</td>\n",
       "      <td>0.76</td>\n",
       "    </tr>\n",
       "    <tr>\n",
       "      <th>2</th>\n",
       "      <td>3</td>\n",
       "      <td>316</td>\n",
       "      <td>104</td>\n",
       "      <td>3</td>\n",
       "      <td>3.0</td>\n",
       "      <td>3.5</td>\n",
       "      <td>8.00</td>\n",
       "      <td>1</td>\n",
       "      <td>0.72</td>\n",
       "    </tr>\n",
       "    <tr>\n",
       "      <th>3</th>\n",
       "      <td>4</td>\n",
       "      <td>322</td>\n",
       "      <td>110</td>\n",
       "      <td>3</td>\n",
       "      <td>3.5</td>\n",
       "      <td>2.5</td>\n",
       "      <td>8.67</td>\n",
       "      <td>1</td>\n",
       "      <td>0.80</td>\n",
       "    </tr>\n",
       "    <tr>\n",
       "      <th>4</th>\n",
       "      <td>5</td>\n",
       "      <td>314</td>\n",
       "      <td>103</td>\n",
       "      <td>2</td>\n",
       "      <td>2.0</td>\n",
       "      <td>3.0</td>\n",
       "      <td>8.21</td>\n",
       "      <td>0</td>\n",
       "      <td>0.65</td>\n",
       "    </tr>\n",
       "  </tbody>\n",
       "</table>\n",
       "</div>"
      ],
      "text/plain": [
       "   Serial No  GRE Score  TOEFL Score  University Rating   SOP  LOR   CGPA  \\\n",
       "0          1        337          118                  4   4.5   4.5  9.65   \n",
       "1          2        324          107                  4   4.0   4.5  8.87   \n",
       "2          3        316          104                  3   3.0   3.5  8.00   \n",
       "3          4        322          110                  3   3.5   2.5  8.67   \n",
       "4          5        314          103                  2   2.0   3.0  8.21   \n",
       "\n",
       "   Research  Chance of Admit   \n",
       "0         1              0.92  \n",
       "1         1              0.76  \n",
       "2         1              0.72  \n",
       "3         1              0.80  \n",
       "4         0              0.65  "
      ]
     },
     "execution_count": 3,
     "metadata": {},
     "output_type": "execute_result"
    }
   ],
   "source": [
    "d.head()"
   ]
  },
  {
   "cell_type": "code",
   "execution_count": 4,
   "id": "62065ba6",
   "metadata": {
    "execution": {
     "iopub.execute_input": "2024-05-24T07:50:21.384135Z",
     "iopub.status.busy": "2024-05-24T07:50:21.383431Z",
     "iopub.status.idle": "2024-05-24T07:50:21.390993Z",
     "shell.execute_reply": "2024-05-24T07:50:21.389759Z"
    },
    "papermill": {
     "duration": 0.015238,
     "end_time": "2024-05-24T07:50:21.393252",
     "exception": false,
     "start_time": "2024-05-24T07:50:21.378014",
     "status": "completed"
    },
    "tags": []
   },
   "outputs": [
    {
     "data": {
      "text/plain": [
       "Index(['Serial No', 'GRE Score', 'TOEFL Score', 'University Rating', ' SOP',\n",
       "       'LOR ', 'CGPA', 'Research', 'Chance of Admit '],\n",
       "      dtype='object')"
      ]
     },
     "execution_count": 4,
     "metadata": {},
     "output_type": "execute_result"
    }
   ],
   "source": [
    "d.columns"
   ]
  },
  {
   "cell_type": "code",
   "execution_count": 5,
   "id": "2127a6ba",
   "metadata": {
    "execution": {
     "iopub.execute_input": "2024-05-24T07:50:21.404121Z",
     "iopub.status.busy": "2024-05-24T07:50:21.403752Z",
     "iopub.status.idle": "2024-05-24T07:50:21.414094Z",
     "shell.execute_reply": "2024-05-24T07:50:21.412909Z"
    },
    "papermill": {
     "duration": 0.018776,
     "end_time": "2024-05-24T07:50:21.416669",
     "exception": false,
     "start_time": "2024-05-24T07:50:21.397893",
     "status": "completed"
    },
    "tags": []
   },
   "outputs": [],
   "source": [
    "y=d['Chance of Admit ']\n",
    "X=d.drop(['Serial No','Chance of Admit '],axis=1)"
   ]
  },
  {
   "cell_type": "code",
   "execution_count": 6,
   "id": "e6441afd",
   "metadata": {
    "execution": {
     "iopub.execute_input": "2024-05-24T07:50:21.426951Z",
     "iopub.status.busy": "2024-05-24T07:50:21.426532Z",
     "iopub.status.idle": "2024-05-24T07:50:22.752983Z",
     "shell.execute_reply": "2024-05-24T07:50:22.751753Z"
    },
    "papermill": {
     "duration": 1.33468,
     "end_time": "2024-05-24T07:50:22.755650",
     "exception": false,
     "start_time": "2024-05-24T07:50:21.420970",
     "status": "completed"
    },
    "tags": []
   },
   "outputs": [],
   "source": [
    "from sklearn.model_selection import train_test_split\n",
    "X_train,X_test,y_train,y_test=train_test_split(X,y,train_size=0.7,random_state=42)"
   ]
  },
  {
   "cell_type": "code",
   "execution_count": 7,
   "id": "1384d601",
   "metadata": {
    "execution": {
     "iopub.execute_input": "2024-05-24T07:50:22.765651Z",
     "iopub.status.busy": "2024-05-24T07:50:22.765250Z",
     "iopub.status.idle": "2024-05-24T07:50:22.873798Z",
     "shell.execute_reply": "2024-05-24T07:50:22.872399Z"
    },
    "papermill": {
     "duration": 0.117321,
     "end_time": "2024-05-24T07:50:22.877217",
     "exception": false,
     "start_time": "2024-05-24T07:50:22.759896",
     "status": "completed"
    },
    "tags": []
   },
   "outputs": [],
   "source": [
    "from sklearn.linear_model import LinearRegression\n",
    "model=LinearRegression()"
   ]
  },
  {
   "cell_type": "code",
   "execution_count": 8,
   "id": "9acb8ce1",
   "metadata": {
    "execution": {
     "iopub.execute_input": "2024-05-24T07:50:22.888926Z",
     "iopub.status.busy": "2024-05-24T07:50:22.887707Z",
     "iopub.status.idle": "2024-05-24T07:50:22.928158Z",
     "shell.execute_reply": "2024-05-24T07:50:22.927022Z"
    },
    "papermill": {
     "duration": 0.04924,
     "end_time": "2024-05-24T07:50:22.931035",
     "exception": false,
     "start_time": "2024-05-24T07:50:22.881795",
     "status": "completed"
    },
    "tags": []
   },
   "outputs": [
    {
     "data": {
      "text/html": [
       "<style>#sk-container-id-1 {color: black;background-color: white;}#sk-container-id-1 pre{padding: 0;}#sk-container-id-1 div.sk-toggleable {background-color: white;}#sk-container-id-1 label.sk-toggleable__label {cursor: pointer;display: block;width: 100%;margin-bottom: 0;padding: 0.3em;box-sizing: border-box;text-align: center;}#sk-container-id-1 label.sk-toggleable__label-arrow:before {content: \"▸\";float: left;margin-right: 0.25em;color: #696969;}#sk-container-id-1 label.sk-toggleable__label-arrow:hover:before {color: black;}#sk-container-id-1 div.sk-estimator:hover label.sk-toggleable__label-arrow:before {color: black;}#sk-container-id-1 div.sk-toggleable__content {max-height: 0;max-width: 0;overflow: hidden;text-align: left;background-color: #f0f8ff;}#sk-container-id-1 div.sk-toggleable__content pre {margin: 0.2em;color: black;border-radius: 0.25em;background-color: #f0f8ff;}#sk-container-id-1 input.sk-toggleable__control:checked~div.sk-toggleable__content {max-height: 200px;max-width: 100%;overflow: auto;}#sk-container-id-1 input.sk-toggleable__control:checked~label.sk-toggleable__label-arrow:before {content: \"▾\";}#sk-container-id-1 div.sk-estimator input.sk-toggleable__control:checked~label.sk-toggleable__label {background-color: #d4ebff;}#sk-container-id-1 div.sk-label input.sk-toggleable__control:checked~label.sk-toggleable__label {background-color: #d4ebff;}#sk-container-id-1 input.sk-hidden--visually {border: 0;clip: rect(1px 1px 1px 1px);clip: rect(1px, 1px, 1px, 1px);height: 1px;margin: -1px;overflow: hidden;padding: 0;position: absolute;width: 1px;}#sk-container-id-1 div.sk-estimator {font-family: monospace;background-color: #f0f8ff;border: 1px dotted black;border-radius: 0.25em;box-sizing: border-box;margin-bottom: 0.5em;}#sk-container-id-1 div.sk-estimator:hover {background-color: #d4ebff;}#sk-container-id-1 div.sk-parallel-item::after {content: \"\";width: 100%;border-bottom: 1px solid gray;flex-grow: 1;}#sk-container-id-1 div.sk-label:hover label.sk-toggleable__label {background-color: #d4ebff;}#sk-container-id-1 div.sk-serial::before {content: \"\";position: absolute;border-left: 1px solid gray;box-sizing: border-box;top: 0;bottom: 0;left: 50%;z-index: 0;}#sk-container-id-1 div.sk-serial {display: flex;flex-direction: column;align-items: center;background-color: white;padding-right: 0.2em;padding-left: 0.2em;position: relative;}#sk-container-id-1 div.sk-item {position: relative;z-index: 1;}#sk-container-id-1 div.sk-parallel {display: flex;align-items: stretch;justify-content: center;background-color: white;position: relative;}#sk-container-id-1 div.sk-item::before, #sk-container-id-1 div.sk-parallel-item::before {content: \"\";position: absolute;border-left: 1px solid gray;box-sizing: border-box;top: 0;bottom: 0;left: 50%;z-index: -1;}#sk-container-id-1 div.sk-parallel-item {display: flex;flex-direction: column;z-index: 1;position: relative;background-color: white;}#sk-container-id-1 div.sk-parallel-item:first-child::after {align-self: flex-end;width: 50%;}#sk-container-id-1 div.sk-parallel-item:last-child::after {align-self: flex-start;width: 50%;}#sk-container-id-1 div.sk-parallel-item:only-child::after {width: 0;}#sk-container-id-1 div.sk-dashed-wrapped {border: 1px dashed gray;margin: 0 0.4em 0.5em 0.4em;box-sizing: border-box;padding-bottom: 0.4em;background-color: white;}#sk-container-id-1 div.sk-label label {font-family: monospace;font-weight: bold;display: inline-block;line-height: 1.2em;}#sk-container-id-1 div.sk-label-container {text-align: center;}#sk-container-id-1 div.sk-container {/* jupyter's `normalize.less` sets `[hidden] { display: none; }` but bootstrap.min.css set `[hidden] { display: none !important; }` so we also need the `!important` here to be able to override the default hidden behavior on the sphinx rendered scikit-learn.org. See: https://github.com/scikit-learn/scikit-learn/issues/21755 */display: inline-block !important;position: relative;}#sk-container-id-1 div.sk-text-repr-fallback {display: none;}</style><div id=\"sk-container-id-1\" class=\"sk-top-container\"><div class=\"sk-text-repr-fallback\"><pre>LinearRegression()</pre><b>In a Jupyter environment, please rerun this cell to show the HTML representation or trust the notebook. <br />On GitHub, the HTML representation is unable to render, please try loading this page with nbviewer.org.</b></div><div class=\"sk-container\" hidden><div class=\"sk-item\"><div class=\"sk-estimator sk-toggleable\"><input class=\"sk-toggleable__control sk-hidden--visually\" id=\"sk-estimator-id-1\" type=\"checkbox\" checked><label for=\"sk-estimator-id-1\" class=\"sk-toggleable__label sk-toggleable__label-arrow\">LinearRegression</label><div class=\"sk-toggleable__content\"><pre>LinearRegression()</pre></div></div></div></div></div>"
      ],
      "text/plain": [
       "LinearRegression()"
      ]
     },
     "execution_count": 8,
     "metadata": {},
     "output_type": "execute_result"
    }
   ],
   "source": [
    "model.fit(X_train,y_train)"
   ]
  },
  {
   "cell_type": "code",
   "execution_count": 9,
   "id": "b74d2903",
   "metadata": {
    "execution": {
     "iopub.execute_input": "2024-05-24T07:50:22.945719Z",
     "iopub.status.busy": "2024-05-24T07:50:22.945311Z",
     "iopub.status.idle": "2024-05-24T07:50:22.950398Z",
     "shell.execute_reply": "2024-05-24T07:50:22.949173Z"
    },
    "papermill": {
     "duration": 0.015548,
     "end_time": "2024-05-24T07:50:22.953203",
     "exception": false,
     "start_time": "2024-05-24T07:50:22.937655",
     "status": "completed"
    },
    "tags": []
   },
   "outputs": [],
   "source": [
    "from sklearn.metrics import mean_absolute_error, mean_absolute_percentage_error, mean_squared_error"
   ]
  },
  {
   "cell_type": "code",
   "execution_count": 10,
   "id": "26491fa0",
   "metadata": {
    "execution": {
     "iopub.execute_input": "2024-05-24T07:50:22.964426Z",
     "iopub.status.busy": "2024-05-24T07:50:22.963971Z",
     "iopub.status.idle": "2024-05-24T07:50:22.972319Z",
     "shell.execute_reply": "2024-05-24T07:50:22.970920Z"
    },
    "papermill": {
     "duration": 0.017562,
     "end_time": "2024-05-24T07:50:22.975327",
     "exception": false,
     "start_time": "2024-05-24T07:50:22.957765",
     "status": "completed"
    },
    "tags": []
   },
   "outputs": [],
   "source": [
    "y_pred = model.predict(X_test)"
   ]
  },
  {
   "cell_type": "code",
   "execution_count": 11,
   "id": "026cc024",
   "metadata": {
    "execution": {
     "iopub.execute_input": "2024-05-24T07:50:22.986473Z",
     "iopub.status.busy": "2024-05-24T07:50:22.986002Z",
     "iopub.status.idle": "2024-05-24T07:50:22.995004Z",
     "shell.execute_reply": "2024-05-24T07:50:22.993835Z"
    },
    "papermill": {
     "duration": 0.017298,
     "end_time": "2024-05-24T07:50:22.997301",
     "exception": false,
     "start_time": "2024-05-24T07:50:22.980003",
     "status": "completed"
    },
    "tags": []
   },
   "outputs": [
    {
     "data": {
      "text/plain": [
       "0.0494783871041959"
      ]
     },
     "execution_count": 11,
     "metadata": {},
     "output_type": "execute_result"
    }
   ],
   "source": [
    "mean_absolute_error(y_test,y_pred)"
   ]
  },
  {
   "cell_type": "code",
   "execution_count": 12,
   "id": "ae3402ba",
   "metadata": {
    "execution": {
     "iopub.execute_input": "2024-05-24T07:50:23.008266Z",
     "iopub.status.busy": "2024-05-24T07:50:23.007800Z",
     "iopub.status.idle": "2024-05-24T07:50:23.016519Z",
     "shell.execute_reply": "2024-05-24T07:50:23.015545Z"
    },
    "papermill": {
     "duration": 0.017274,
     "end_time": "2024-05-24T07:50:23.019192",
     "exception": false,
     "start_time": "2024-05-24T07:50:23.001918",
     "status": "completed"
    },
    "tags": []
   },
   "outputs": [
    {
     "data": {
      "text/plain": [
       "0.08460168908442775"
      ]
     },
     "execution_count": 12,
     "metadata": {},
     "output_type": "execute_result"
    }
   ],
   "source": [
    "mean_absolute_percentage_error(y_test,y_pred)"
   ]
  },
  {
   "cell_type": "code",
   "execution_count": 13,
   "id": "82ccd716",
   "metadata": {
    "execution": {
     "iopub.execute_input": "2024-05-24T07:50:23.034589Z",
     "iopub.status.busy": "2024-05-24T07:50:23.034185Z",
     "iopub.status.idle": "2024-05-24T07:50:23.042515Z",
     "shell.execute_reply": "2024-05-24T07:50:23.041251Z"
    },
    "papermill": {
     "duration": 0.018657,
     "end_time": "2024-05-24T07:50:23.044783",
     "exception": false,
     "start_time": "2024-05-24T07:50:23.026126",
     "status": "completed"
    },
    "tags": []
   },
   "outputs": [
    {
     "data": {
      "text/plain": [
       "0.004652821846481298"
      ]
     },
     "execution_count": 13,
     "metadata": {},
     "output_type": "execute_result"
    }
   ],
   "source": [
    "mean_squared_error(y_test,y_pred)"
   ]
  }
 ],
 "metadata": {
  "kaggle": {
   "accelerator": "none",
   "dataSources": [
    {
     "datasetId": 4364816,
     "sourceId": 7496132,
     "sourceType": "datasetVersion"
    }
   ],
   "dockerImageVersionId": 30698,
   "isGpuEnabled": false,
   "isInternetEnabled": true,
   "language": "python",
   "sourceType": "notebook"
  },
  "kernelspec": {
   "display_name": "Python 3",
   "language": "python",
   "name": "python3"
  },
  "language_info": {
   "codemirror_mode": {
    "name": "ipython",
    "version": 3
   },
   "file_extension": ".py",
   "mimetype": "text/x-python",
   "name": "python",
   "nbconvert_exporter": "python",
   "pygments_lexer": "ipython3",
   "version": "3.10.13"
  },
  "papermill": {
   "default_parameters": {},
   "duration": 6.249443,
   "end_time": "2024-05-24T07:50:23.676463",
   "environment_variables": {},
   "exception": null,
   "input_path": "__notebook__.ipynb",
   "output_path": "__notebook__.ipynb",
   "parameters": {},
   "start_time": "2024-05-24T07:50:17.427020",
   "version": "2.5.0"
  }
 },
 "nbformat": 4,
 "nbformat_minor": 5
}
